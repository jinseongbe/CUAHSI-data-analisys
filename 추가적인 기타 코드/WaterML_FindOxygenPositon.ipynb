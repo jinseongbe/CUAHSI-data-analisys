{
 "cells": [
  {
   "cell_type": "code",
   "execution_count": 1,
   "metadata": {},
   "outputs": [],
   "source": [
    "import os\n",
    "import pandas as pd"
   ]
  },
  {
   "cell_type": "code",
   "execution_count": 2,
   "metadata": {},
   "outputs": [
    {
     "name": "stdout",
     "output_type": "stream",
     "text": [
      "/Users/jinsungpark/Desktop/jupyter\n",
      "/Users/jinsungpark/Desktop/R/Water_Lab/3month\n"
     ]
    }
   ],
   "source": [
    "print(os.getcwd())\n",
    "os.chdir(\"/Users/jinsungpark/Desktop/R/Water_Lab/3month\")\n",
    "print(os.getcwd())"
   ]
  },
  {
   "cell_type": "code",
   "execution_count": 3,
   "metadata": {},
   "outputs": [],
   "source": [
    "def fileNameFilter(x):\n",
    "    return x.endswith('SiteInfoSummary.csv')\n",
    "\n",
    "file_lst = os.listdir()\n",
    "\n",
    "file_lst = [x for x in file_lst if fileNameFilter(x)] # list comprehension 방법\n",
    "\n",
    "df = pd.read_excel(\"df_collect.xlsx\")"
   ]
  },
  {
   "cell_type": "code",
   "execution_count": 4,
   "metadata": {},
   "outputs": [
    {
     "name": "stdout",
     "output_type": "stream",
     "text": [
      "3851\n",
      "41.297237,-77.19802\n",
      "5162\n",
      "41.495409,-111.817993\n",
      "1962\n",
      "41.643457,-111.917649\n",
      "1405\n",
      "41.495409,-111.817993\n",
      "6413\n",
      "44.13837845,-70.2522077\n",
      "6253\n",
      "43.3913333,-72.0576666\n",
      "6252\n",
      "43.3913333,-72.0576666\n",
      "1969\n",
      "41.536088,-111.830455\n",
      "4725\n",
      "41.575552,-111.855217\n",
      "1447\n",
      "41.575552,-111.855217\n",
      "6414\n",
      "44.13837845,-70.2522077\n",
      "6415\n",
      "44.13837845,-70.2522077\n",
      "1897\n",
      "41.529212,-111.799324\n",
      "4692\n",
      "57.1100634675,-2.8089233365\n",
      "4759\n",
      "41.718473,-111.946402\n",
      "12886\n",
      "45.379987,-79.133965\n",
      "5344\n",
      "41.643457,-111.917649\n",
      "12887\n",
      "45.379987,-79.133965\n",
      "4667\n",
      "41.506518,-111.815079\n",
      "4636\n",
      "41.297237,-77.19802\n",
      "5261\n",
      "41.536088,-111.830455\n",
      "12888\n",
      "45.379987,-79.133965\n",
      "1679\n",
      "41.506518,-111.815079\n",
      "1717\n",
      "41.718473,-111.946402\n",
      "12889\n",
      "45.379987,-79.133965\n",
      "4680\n",
      "41.529212,-111.799324\n"
     ]
    }
   ],
   "source": [
    "for i in range(0, len(file_lst)):\n",
    "    file_name = file_lst[i]\n",
    "    \n",
    "    if len(file_name) == 26:\n",
    "        file_num = file_name[5:6]           \n",
    "    elif len(file_name) == 27:\n",
    "        file_num = file_name[5:7]        \n",
    "    elif len(file_name) == 28:\n",
    "        file_num = file_name[5:8]\n",
    "    elif len(file_name) == 29:\n",
    "        file_num = file_name[5:9]\n",
    "    elif len(file_name) == 30:       \n",
    "        file_num = file_name[5:10]\n",
    "    else:\n",
    "        print(\"############ fileName Error! ############\")\n",
    "    print(file_num)\n",
    "    \n",
    "    Detail = df.iloc[int(file_num)-1,:]\n",
    "     # df데이터는 0부터 시작하는데, 파일넘버는 1부터 저장되었기 떄문(폴더에 파일이름으로 저장하는 과정에 생긴 차이)\n",
    "    print(\"{},{}\".format(Detail[\"Latitude\"],Detail[\"Longitude\"]))\n",
    "    address = \"Data_\" + str(file_num) + \"_SiteInfoDetail.csv\"\n",
    "#     Detail.to_csv(address)\n"
   ]
  },
  {
   "cell_type": "markdown",
   "metadata": {},
   "source": [
    "#### 좌표를 이용한 구글지도 크롤링"
   ]
  },
  {
   "cell_type": "code",
   "execution_count": 4,
   "metadata": {},
   "outputs": [],
   "source": [
    "import os\n",
    "from selenium import webdriver\n",
    "from time import sleep, time\n",
    "import pandas as pd"
   ]
  },
  {
   "cell_type": "code",
   "execution_count": 5,
   "metadata": {},
   "outputs": [],
   "source": [
    "os.chdir(\"/Users/jinsungpark/Desktop/R/Water_Lab/3month\")\n",
    "driver = webdriver.Chrome('/Users/jinsungpark/Desktop/Web/chromedriver')\n",
    "\n",
    "driver.get(\"https://www.google.co.kr/maps/\")"
   ]
  },
  {
   "cell_type": "code",
   "execution_count": 6,
   "metadata": {},
   "outputs": [],
   "source": [
    "def fileNameFilter(x):\n",
    "    return x.endswith('SiteInfoSummary.csv')"
   ]
  },
  {
   "cell_type": "code",
   "execution_count": null,
   "metadata": {},
   "outputs": [
    {
     "name": "stdout",
     "output_type": "stream",
     "text": [
      "3851\n",
      "5162\n",
      "1962\n",
      "1405\n",
      "6413\n"
     ]
    }
   ],
   "source": [
    "file_lst = os.listdir()\n",
    "file_lst = [x for x in file_lst if fileNameFilter(x)] # list comprehension 방법\n",
    "df = pd.read_excel(\"df_collect.xlsx\")\n",
    "ZoomOutCnt = 10\n",
    "\n",
    "for i in range(0, len(file_lst)):\n",
    "    file_name = file_lst[i]\n",
    "    \n",
    "    if len(file_name) == 26:\n",
    "        file_num = file_name[5:6]           \n",
    "    elif len(file_name) == 27:\n",
    "        file_num = file_name[5:7]        \n",
    "    elif len(file_name) == 28:\n",
    "        file_num = file_name[5:8]\n",
    "    elif len(file_name) == 29:\n",
    "        file_num = file_name[5:9]\n",
    "    elif len(file_name) == 30:       \n",
    "        file_num = file_name[5:10]\n",
    "    else:\n",
    "        print(\"############ fileName Error! ############\")\n",
    "    print(file_num)\n",
    "    \n",
    "    Detail = df.iloc[int(file_num)-1,:]\n",
    "    \n",
    "    coordinate = str(Detail[\"Latitude\"]) + \",\" + str(Detail[\"Longitude\"])\n",
    "    \n",
    "    driver.find_element_by_id('searchboxinput').send_keys(coordinate)\n",
    "    driver.find_element_by_id('searchbox-searchbutton').click()\n",
    "\n",
    "    sleep(1)\n",
    "\n",
    "    for j in range(0, ZoomOutCnt):\n",
    "        driver.find_element_by_id('widget-zoom-out').click()\n",
    "        sleep(0.3)\n",
    "\n",
    "    address_image = \"Data_\" + str(file_num) + \"_Map.png\"\n",
    "#     driver.save_screenshot(address_image)\n",
    "    \n",
    "    driver.find_element_by_id('sb_cb50').click()\n",
    "    sleep(1)\n",
    "    \n",
    "driver.quit()"
   ]
  },
  {
   "cell_type": "code",
   "execution_count": null,
   "metadata": {},
   "outputs": [],
   "source": [
    "driver.quit()"
   ]
  },
  {
   "cell_type": "code",
   "execution_count": null,
   "metadata": {},
   "outputs": [],
   "source": []
  },
  {
   "cell_type": "code",
   "execution_count": null,
   "metadata": {},
   "outputs": [],
   "source": []
  },
  {
   "cell_type": "code",
   "execution_count": 8,
   "metadata": {},
   "outputs": [
    {
     "name": "stdout",
     "output_type": "stream",
     "text": [
      "3851\n",
      "41.297237,-77.19802\n",
      "5162\n",
      "41.495409,-111.817993\n",
      "1962\n",
      "41.643457,-111.917649\n",
      "1405\n",
      "41.495409,-111.817993\n",
      "6413\n",
      "44.13837845,-70.2522077\n",
      "6253\n",
      "43.3913333,-72.0576666\n",
      "6252\n",
      "43.3913333,-72.0576666\n",
      "1969\n",
      "41.536088,-111.830455\n",
      "4725\n",
      "41.575552,-111.855217\n",
      "1447\n",
      "41.575552,-111.855217\n",
      "6414\n",
      "44.13837845,-70.2522077\n",
      "6415\n",
      "44.13837845,-70.2522077\n",
      "1897\n",
      "41.529212,-111.799324\n",
      "4692\n",
      "57.1100634675,-2.8089233365\n",
      "4759\n",
      "41.718473,-111.946402\n",
      "12886\n",
      "45.379987,-79.133965\n",
      "5344\n",
      "41.643457,-111.917649\n",
      "12887\n",
      "45.379987,-79.133965\n",
      "4667\n",
      "41.506518,-111.815079\n",
      "4636\n",
      "41.297237,-77.19802\n",
      "5261\n",
      "41.536088,-111.830455\n",
      "12888\n",
      "45.379987,-79.133965\n",
      "1679\n",
      "41.506518,-111.815079\n",
      "1717\n",
      "41.718473,-111.946402\n",
      "12889\n",
      "45.379987,-79.133965\n",
      "4680\n",
      "41.529212,-111.799324\n"
     ]
    }
   ],
   "source": [
    "position_lst = []\n",
    "\n",
    "for i in range(0, len(file_lst)):\n",
    "    file_name = file_lst[i]\n",
    "    \n",
    "    if len(file_name) == 26:\n",
    "        file_num = file_name[5:6]           \n",
    "    elif len(file_name) == 27:\n",
    "        file_num = file_name[5:7]        \n",
    "    elif len(file_name) == 28:\n",
    "        file_num = file_name[5:8]\n",
    "    elif len(file_name) == 29:\n",
    "        file_num = file_name[5:9]\n",
    "    elif len(file_name) == 30:       \n",
    "        file_num = file_name[5:10]\n",
    "    else:\n",
    "        print(\"############ fileName Error! ############\")\n",
    "    print(file_num)\n",
    "    \n",
    "    Detail = df.iloc[int(file_num)-1,:]\n",
    "     # df데이터는 0부터 시작하는데, 파일넘버는 1부터 저장되었기 떄문(폴더에 파일이름으로 저장하는 과정에 생긴 차이)\n",
    "    print(\"{},{}\".format(Detail[\"Latitude\"],Detail[\"Longitude\"]))\n",
    "    position = str(Detail[\"Latitude\"]) + \",\" + str(Detail[\"Longitude\"])\n",
    "    position_lst.append(position)\n",
    "    address = \"Data_\" + str(file_num) + \"_SiteInfoDetail.csv\"\n",
    "#     Detail.to_csv(address)\n"
   ]
  },
  {
   "cell_type": "code",
   "execution_count": 9,
   "metadata": {},
   "outputs": [
    {
     "name": "stdout",
     "output_type": "stream",
     "text": [
      "['41.297237,-77.19802', '41.495409,-111.817993', '41.643457,-111.917649', '41.495409,-111.817993', '44.13837845,-70.2522077', '43.3913333,-72.0576666', '43.3913333,-72.0576666', '41.536088,-111.830455', '41.575552,-111.855217', '41.575552,-111.855217', '44.13837845,-70.2522077', '44.13837845,-70.2522077', '41.529212,-111.799324', '57.1100634675,-2.8089233365', '41.718473,-111.946402', '45.379987,-79.133965', '41.643457,-111.917649', '45.379987,-79.133965', '41.506518,-111.815079', '41.297237,-77.19802', '41.536088,-111.830455', '45.379987,-79.133965', '41.506518,-111.815079', '41.718473,-111.946402', '45.379987,-79.133965', '41.529212,-111.799324']\n",
      "{'41.297237,-77.19802': 2, '41.495409,-111.817993': 2, '41.643457,-111.917649': 2, '44.13837845,-70.2522077': 3, '43.3913333,-72.0576666': 2, '41.536088,-111.830455': 2, '41.575552,-111.855217': 2, '41.529212,-111.799324': 2, '57.1100634675,-2.8089233365': 1, '41.718473,-111.946402': 2, '45.379987,-79.133965': 4, '41.506518,-111.815079': 2}\n"
     ]
    }
   ],
   "source": [
    "print(position_lst)\n",
    "\n",
    "editPos_lst = {}\n",
    "lists = [\"a\",\"a\",\"b\",'apple','w','wf']\n",
    "for i in position_lst:\n",
    "    try: editPos_lst[i] += 1\n",
    "    except: editPos_lst[i]=1\n",
    "print(editPos_lst)"
   ]
  },
  {
   "cell_type": "code",
   "execution_count": null,
   "metadata": {},
   "outputs": [],
   "source": []
  }
 ],
 "metadata": {
  "kernelspec": {
   "display_name": "Python 3",
   "language": "python",
   "name": "python3"
  },
  "language_info": {
   "codemirror_mode": {
    "name": "ipython",
    "version": 3
   },
   "file_extension": ".py",
   "mimetype": "text/x-python",
   "name": "python",
   "nbconvert_exporter": "python",
   "pygments_lexer": "ipython3",
   "version": "3.7.6"
  }
 },
 "nbformat": 4,
 "nbformat_minor": 4
}
