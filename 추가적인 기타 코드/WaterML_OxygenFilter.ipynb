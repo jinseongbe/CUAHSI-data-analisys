{
 "cells": [
  {
   "cell_type": "code",
   "execution_count": 1,
   "metadata": {},
   "outputs": [],
   "source": [
    "import os\n",
    "import time\n",
    "from datetime import date\n",
    "import pandas as pd"
   ]
  },
  {
   "cell_type": "code",
   "execution_count": 2,
   "metadata": {},
   "outputs": [
    {
     "name": "stdout",
     "output_type": "stream",
     "text": [
      "/Users/jinsungpark/Desktop/jupyter\n",
      "/Users/jinsungpark/Desktop/OxyFiltered\n"
     ]
    }
   ],
   "source": [
    "print(os.getcwd())\n",
    "os.chdir(\"/Users/jinsungpark/Desktop/OxyFiltered\")\n",
    "print(os.getcwd())"
   ]
  },
  {
   "cell_type": "code",
   "execution_count": 3,
   "metadata": {},
   "outputs": [],
   "source": [
    "def fileNameFilter(x):\n",
    "    return x.startswith('Data_')\n",
    "\n",
    "file_lst = os.listdir()\n",
    "\n",
    "file_lst = [x for x in file_lst if fileNameFilter(x)] # list comprehension 방법"
   ]
  },
  {
   "cell_type": "code",
   "execution_count": 20,
   "metadata": {},
   "outputs": [
    {
     "name": "stdout",
     "output_type": "stream",
     "text": [
      "10, success\n",
      "17, success\n",
      "26, success\n",
      "32, success\n",
      "35, success\n",
      "40, success\n",
      "43, success\n",
      "45, success\n",
      "47, success\n",
      "49, success\n",
      "50, success\n",
      "55, success\n",
      "57, success\n",
      "63, success\n",
      "65, success\n",
      "66, success\n",
      "67, success\n",
      "69, success\n",
      "72, success\n",
      "73, success\n",
      "75, success\n",
      "77, success\n",
      "78, success\n",
      "79, success\n",
      "81, success\n",
      "85, success\n",
      "Done!\n",
      "['Data_3851_SiteInfoSummary.csv', 'Data_5162_SiteInfoSummary.csv', 'Data_1962_SiteInfoSummary.csv', 'Data_1405_SiteInfoSummary.csv', 'Data_6413_SiteInfoSummary.csv', 'Data_6253_SiteInfoSummary.csv', 'Data_6252_SiteInfoSummary.csv', 'Data_1969_SiteInfoSummary.csv', 'Data_4725_SiteInfoSummary.csv', 'Data_1447_SiteInfoSummary.csv', 'Data_6414_SiteInfoSummary.csv', 'Data_6415_SiteInfoSummary.csv', 'Data_1897_SiteInfoSummary.csv', 'Data_4692_SiteInfoSummary.csv', 'Data_4759_SiteInfoSummary.csv', 'Data_12886_SiteInfoSummary.csv', 'Data_5344_SiteInfoSummary.csv', 'Data_12887_SiteInfoSummary.csv', 'Data_4667_SiteInfoSummary.csv', 'Data_4636_SiteInfoSummary.csv', 'Data_5261_SiteInfoSummary.csv', 'Data_12888_SiteInfoSummary.csv', 'Data_1679_SiteInfoSummary.csv', 'Data_1717_SiteInfoSummary.csv', 'Data_12889_SiteInfoSummary.csv', 'Data_4680_SiteInfoSummary.csv']\n",
      "26\n"
     ]
    }
   ],
   "source": [
    "passFile_lst = []\n",
    "\n",
    "for i in range(0, len(file_lst)):\n",
    "    if i == 9 or i == 20 or i == 80 or i == 88:\n",
    "        continue\n",
    "    file_name = file_lst[i]\n",
    "\n",
    "    if len(file_name) == 26:\n",
    "        file_num = file_name[5:7]           \n",
    "    elif len(file_name) == 27:\n",
    "        file_num = file_name[5:8]        \n",
    "    elif len(file_name) == 28:\n",
    "        file_num = file_name[5:9]\n",
    "    elif len(file_name) == 29:\n",
    "        file_num = file_name[5:10]\n",
    "    elif len(file_name) == 30:       \n",
    "        file_num = file_name[5:11]\n",
    "    else:\n",
    "        print(\"############ fileName Error! ############\")\n",
    "\n",
    "    SiteInfo = pd.read_csv(file_name)\n",
    "    \n",
    "    trueCnt = 0\n",
    "\n",
    "    for j in range(0, len(SiteInfo)):\n",
    "#         print(SiteInfo.beginDateTime[j])\n",
    "#         print(SiteInfo.endDateTime[j])\n",
    "#         print(\"\\n\")\n",
    "        if len(SiteInfo.beginDateTime[j]) == 19:\n",
    "            tmBegin = time.strptime(SiteInfo.beginDateTime[j], '%Y-%m-%d %H:%M:%S')\n",
    "            tmEnd = time.strptime(SiteInfo.endDateTime[j], '%Y-%m-%d %H:%M:%S')\n",
    "        elif len(SiteInfo.beginDateTime[j]) == 10:\n",
    "            tmBegin = time.strptime(SiteInfo.beginDateTime[j], '%Y-%m-%d')\n",
    "            tmEnd = time.strptime(SiteInfo.endDateTime[j], '%Y-%m-%d')\n",
    "        else:\n",
    "            print(SiteInfo.beginDateTime[j])\n",
    "            print(\"Date Format Error!!\")\n",
    "        \n",
    "        period = date(tmEnd.tm_year , tmEnd.tm_mon, tmEnd.tm_mday) - date(tmBegin.tm_year , tmBegin.tm_mon, tmBegin.tm_mday)\n",
    "\n",
    "        if SiteInfo.DataExistRate_lst[j] >= 80 and period.days >= 90:\n",
    "            trueCnt += 1\n",
    "\n",
    "\n",
    "    if trueCnt >= 5:\n",
    "        passFile_lst.append(file_name)\n",
    "        print(\"{}, success\".format(i))\n",
    "    else:\n",
    "        continue\n",
    "    \n",
    "print(\"Done!\")\n",
    "    \n",
    "print(passFile_lst)\n",
    "print(len(passFile_lst))"
   ]
  },
  {
   "cell_type": "code",
   "execution_count": 16,
   "metadata": {},
   "outputs": [
    {
     "data": {
      "text/plain": [
       "['Data_3851_SiteInfoSummary.csv',\n",
       " 'Data_5162_SiteInfoSummary.csv',\n",
       " 'Data_1962_SiteInfoSummary.csv',\n",
       " 'Data_1405_SiteInfoSummary.csv',\n",
       " 'Data_1969_SiteInfoSummary.csv',\n",
       " 'Data_4725_SiteInfoSummary.csv',\n",
       " 'Data_1447_SiteInfoSummary.csv',\n",
       " 'Data_1897_SiteInfoSummary.csv',\n",
       " 'Data_4692_SiteInfoSummary.csv',\n",
       " 'Data_4759_SiteInfoSummary.csv',\n",
       " 'Data_5344_SiteInfoSummary.csv',\n",
       " 'Data_4667_SiteInfoSummary.csv',\n",
       " 'Data_4636_SiteInfoSummary.csv',\n",
       " 'Data_5261_SiteInfoSummary.csv',\n",
       " 'Data_1679_SiteInfoSummary.csv',\n",
       " 'Data_1717_SiteInfoSummary.csv',\n",
       " 'Data_4680_SiteInfoSummary.csv']"
      ]
     },
     "execution_count": 16,
     "metadata": {},
     "output_type": "execute_result"
    }
   ],
   "source": [
    "passFile_lst"
   ]
  },
  {
   "cell_type": "code",
   "execution_count": 11,
   "metadata": {},
   "outputs": [
    {
     "name": "stdout",
     "output_type": "stream",
     "text": [
      "Data_2284_SiteInfoSummary.csv\n",
      "Data_5105_SiteInfoSummary.csv\n"
     ]
    }
   ],
   "source": [
    "# print(file_lst[9])\n",
    "# print(file_lst[20])\n",
    "# print(file_lst[80])\n",
    "# print(file_lst[88])"
   ]
  },
  {
   "cell_type": "code",
   "execution_count": null,
   "metadata": {},
   "outputs": [],
   "source": [
    "passFile_lst = []\n",
    "file_name = file_lst[1]\n",
    "SiteInfo = pd.read_csv(file_name)\n",
    "tmBegin = time.strptime(SiteInfo.beginDateTime[0], '%Y-%m-%d %I:%M:%S')\n",
    "tmEnd = time.strptime(SiteInfo.endDateTime[0], '%Y-%m-%d %I:%M:%S')\n",
    "\n",
    "period = date(tmEnd.tm_year , tmEnd.tm_mon, tmEnd.tm_mday) - date(tmBegin.tm_year , tmBegin.tm_mon, tmBegin.tm_mday)\n",
    "period.days"
   ]
  },
  {
   "cell_type": "code",
   "execution_count": null,
   "metadata": {},
   "outputs": [],
   "source": [
    "passFile_lst = []\n",
    "file_name = file_lst[1]\n",
    "SiteInfo = pd.read_csv(file_name)\n",
    "\n",
    "\n",
    "    trueCnt = 0\n",
    "    for i in range(0, len(SiteInfo)):\n",
    "        if SiteInfo.DataExistRate_lst[i] >= 80:\n",
    "            trueCnt += 1\n",
    "        else:\n",
    "            continue\n",
    "\n",
    "    passFile_lst = []\n",
    "    file_name = file_lst[1]\n",
    "    SiteInfo = pd.read_csv(file_name)\n",
    "    tmBegin = time.strptime(SiteInfo.beginDateTime[0], '%Y-%m-%d %I:%M:%S')\n",
    "    tmEnd = time.strptime(SiteInfo.endDateTime[0], '%Y-%m-%d %I:%M:%S')\n",
    "\n",
    "    period = date(tmEnd.tm_year , tmEnd.tm_mon, tmEnd.tm_mday) - date(tmBegin.tm_year , tmBegin.tm_mon, tmBegin.tm_mday)\n",
    "\n",
    "    if trueCnt >= 5 && period.days >= 61:\n",
    "        passFile_lst.append(file_name)\n",
    "\n",
    "\n"
   ]
  },
  {
   "cell_type": "code",
   "execution_count": null,
   "metadata": {},
   "outputs": [],
   "source": [
    "data"
   ]
  },
  {
   "cell_type": "code",
   "execution_count": null,
   "metadata": {},
   "outputs": [],
   "source": []
  },
  {
   "cell_type": "code",
   "execution_count": null,
   "metadata": {},
   "outputs": [],
   "source": []
  },
  {
   "cell_type": "code",
   "execution_count": null,
   "metadata": {},
   "outputs": [],
   "source": [
    "/Users/jinsungpark/Desktop/OxyFiltered"
   ]
  }
 ],
 "metadata": {
  "kernelspec": {
   "display_name": "Python 3",
   "language": "python",
   "name": "python3"
  },
  "language_info": {
   "codemirror_mode": {
    "name": "ipython",
    "version": 3
   },
   "file_extension": ".py",
   "mimetype": "text/x-python",
   "name": "python",
   "nbconvert_exporter": "python",
   "pygments_lexer": "ipython3",
   "version": "3.7.6"
  }
 },
 "nbformat": 4,
 "nbformat_minor": 4
}
