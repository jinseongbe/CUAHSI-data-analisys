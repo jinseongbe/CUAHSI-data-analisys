{
 "cells": [
  {
   "cell_type": "code",
   "execution_count": 1,
   "metadata": {},
   "outputs": [],
   "source": [
    "import os\n",
    "import pandas as pd\n",
    "import time\n",
    "from datetime import date"
   ]
  },
  {
   "cell_type": "code",
   "execution_count": 2,
   "metadata": {},
   "outputs": [
    {
     "name": "stdout",
     "output_type": "stream",
     "text": [
      "/Users/jinsungpark/Desktop/jupyter\n",
      "/Users/jinsungpark/Desktop/R/Water_Lab/3month중복제거/summary\n"
     ]
    }
   ],
   "source": [
    "print(os.getcwd())\n",
    "os.chdir(\"/Users/jinsungpark/Desktop/R/Water_Lab/3month중복제거/summary\")\n",
    "print(os.getcwd())"
   ]
  },
  {
   "cell_type": "code",
   "execution_count": 3,
   "metadata": {},
   "outputs": [
    {
     "data": {
      "text/plain": [
       "['Data_3851_SiteInfoSummary.csv',\n",
       " 'Data_1962_SiteInfoSummary.csv',\n",
       " 'Data_1405_SiteInfoSummary.csv',\n",
       " 'Data_6413_SiteInfoSummary.csv',\n",
       " 'Data_6253_SiteInfoSummary.csv',\n",
       " 'Data_1969_SiteInfoSummary.csv',\n",
       " 'Data_1447_SiteInfoSummary.csv',\n",
       " 'Data_1897_SiteInfoSummary.csv',\n",
       " 'Data_4692_SiteInfoSummary.csv',\n",
       " 'Data_12886_SiteInfoSummary.csv',\n",
       " 'Data_1679_SiteInfoSummary.csv',\n",
       " 'Data_1717_SiteInfoSummary.csv']"
      ]
     },
     "execution_count": 3,
     "metadata": {},
     "output_type": "execute_result"
    }
   ],
   "source": [
    "def fileNameFilter(x):\n",
    "    return x.startswith('Data_')\n",
    "\n",
    "file_lst = os.listdir()\n",
    "\n",
    "file_lst = [x for x in file_lst if fileNameFilter(x)] # list comprehension 방법\n",
    "file_lst"
   ]
  },
  {
   "cell_type": "code",
   "execution_count": 14,
   "metadata": {},
   "outputs": [
    {
     "name": "stdout",
     "output_type": "stream",
     "text": [
      "fileNum : 3851\n",
      "0/12\n",
      "fileNum : 1962\n",
      "1/12\n",
      "fileNum : 1405\n",
      "2/12\n",
      "fileNum : 6413\n",
      "3/12\n",
      "fileNum : 6253\n",
      "4/12\n",
      "fileNum : 1969\n",
      "5/12\n",
      "fileNum : 1447\n",
      "6/12\n",
      "fileNum : 1897\n",
      "7/12\n",
      "fileNum : 4692\n",
      "8/12\n",
      "fileNum : 12886\n",
      "9/12\n",
      "fileNum : 1679\n",
      "10/12\n",
      "fileNum : 1717\n",
      "11/12\n"
     ]
    }
   ],
   "source": [
    "VarName_lst = []\n",
    "fileNum_lst = []\n",
    "\n",
    "for i in range(0, len(file_lst)):\n",
    "    Data = pd.read_csv(file_lst[i])\n",
    "    Data = Data[Data.DataExistRate_lst >= 80]\n",
    "    Data = Data.reset_index()\n",
    "    \n",
    "    file_name = file_lst[i]\n",
    "    if len(file_name) == 26:\n",
    "        file_num = file_name[5:6]           \n",
    "    elif len(file_name) == 27:\n",
    "        file_num = file_name[5:7]        \n",
    "    elif len(file_name) == 28:\n",
    "        file_num = file_name[5:8]\n",
    "    elif len(file_name) == 29:\n",
    "        file_num = file_name[5:9]\n",
    "    elif len(file_name) == 30:       \n",
    "        file_num = file_name[5:10]\n",
    "    else:\n",
    "        print(\"############ fileName Error! ############\")\n",
    "    print(\"fileNum : {}\".format(file_num))\n",
    "    for j in range(0, len(Data)):\n",
    "#         if len(Data.beginDateTime[j]) == 19:\n",
    "#             tmBegin = time.strptime(Data.beginDateTime[j], '%Y-%m-%d %H:%M:%S')\n",
    "#             tmEnd = time.strptime(Data.endDateTime[j], '%Y-%m-%d %H:%M:%S')\n",
    "#         elif len(Data.beginDateTime[j]) == 10:\n",
    "#             tmBegin = time.strptime(Data.beginDateTime[j], '%Y-%m-%d')\n",
    "#             tmEnd = time.strptime(Data.endDateTime[j], '%Y-%m-%d')\n",
    "#         else:\n",
    "#             print(Data.beginDateTime[j])\n",
    "#             print(\"Date Format Error!!\")\n",
    "        \n",
    "        VarName_lst.append(Data.VariableName[j])\n",
    "    fileNum_lst.append(file_num)\n",
    "    print(\"{}/{}\".format(i, len(file_lst)))\n",
    "\n",
    "#         period = date(tmEnd.tm_year , tmEnd.tm_mon, tmEnd.tm_mday) - date(tmBegin.tm_year , tmBegin.tm_mon, tmBegin.tm_mday)\n",
    "#         print(\"{} : {}\".format(Data.VariableName[j], period))\n",
    "#     print(\"\\n\")"
   ]
  },
  {
   "cell_type": "code",
   "execution_count": 15,
   "metadata": {},
   "outputs": [],
   "source": [
    "VarName_lst = list(set(VarName_lst))"
   ]
  },
  {
   "cell_type": "code",
   "execution_count": 17,
   "metadata": {},
   "outputs": [
    {
     "name": "stdout",
     "output_type": "stream",
     "text": [
      "['pH', 'Nitrogen, nitrate (NO3)', 'Radiation, incoming PAR', 'Carbon, dissolved organic', 'Radiation, incoming longwave', 'Electrical conductivity', 'Sodium', 'Wind direction', 'Oxygen, dissolved', 'Wind speed', 'Battery voltage', 'Magnesium', 'Discharge', 'Carbon dioxide', 'Radiation, incoming shortwave', 'Relative humidity', 'Calcium ', 'Nitrogen, NH4', 'Orientation', 'Specific conductance', 'Gage height', 'Sulfate', 'Vapor pressure', 'Oxygen, dissolved percent of saturation', 'Turbidity', 'Chlorophyll a', 'Chloride', 'Temperature']\n",
      "['3851', '1962', '1405', '6413', '6253', '1969', '1447', '1897', '4692', '12886', '1679', '1717']\n"
     ]
    }
   ],
   "source": [
    "print(VarName_lst)\n",
    "print(fileNum_lst)"
   ]
  },
  {
   "cell_type": "code",
   "execution_count": 19,
   "metadata": {},
   "outputs": [],
   "source": [
    "df = pd.DataFrame(columns = ['3851', '1962', '1405', '6413', '6253', '1969', '1447', '1897', '4692', '12886', '1679', '1717'],\n",
    "                  index = ['pH', 'Nitrogen, nitrate (NO3)', 'Radiation, incoming PAR', 'Carbon, dissolved organic', 'Radiation, incoming longwave', 'Electrical conductivity', 'Sodium', 'Wind direction', 'Oxygen, dissolved', 'Wind speed', 'Battery voltage', 'Magnesium', 'Discharge', 'Carbon dioxide', 'Radiation, incoming shortwave', 'Relative humidity', 'Calcium ', 'Nitrogen, NH4', 'Orientation', 'Specific conductance', 'Gage height', 'Sulfate', 'Vapor pressure', 'Oxygen, dissolved percent of saturation', 'Turbidity', 'Chlorophyll a', 'Chloride', 'Temperature'])"
   ]
  },
  {
   "cell_type": "code",
   "execution_count": 21,
   "metadata": {},
   "outputs": [
    {
     "ename": "TypeError",
     "evalue": "to_excel() missing 1 required positional argument: 'excel_writer'",
     "output_type": "error",
     "traceback": [
      "\u001b[0;31m---------------------------------------------------------------------------\u001b[0m",
      "\u001b[0;31mTypeError\u001b[0m                                 Traceback (most recent call last)",
      "\u001b[0;32m<ipython-input-21-50ffbc8045a0>\u001b[0m in \u001b[0;36m<module>\u001b[0;34m\u001b[0m\n\u001b[0;32m----> 1\u001b[0;31m \u001b[0mdf\u001b[0m\u001b[0;34m.\u001b[0m\u001b[0mto_excel\u001b[0m\u001b[0;34m(\u001b[0m\u001b[0;34m)\u001b[0m\u001b[0;34m\u001b[0m\u001b[0;34m\u001b[0m\u001b[0m\n\u001b[0m",
      "\u001b[0;31mTypeError\u001b[0m: to_excel() missing 1 required positional argument: 'excel_writer'"
     ]
    }
   ],
   "source": [
    "df.to_excel(/Users/jinsungpark/Desktop)"
   ]
  },
  {
   "cell_type": "code",
   "execution_count": null,
   "metadata": {},
   "outputs": [],
   "source": []
  },
  {
   "cell_type": "code",
   "execution_count": null,
   "metadata": {},
   "outputs": [],
   "source": []
  },
  {
   "cell_type": "code",
   "execution_count": null,
   "metadata": {},
   "outputs": [],
   "source": [
    "Data"
   ]
  },
  {
   "cell_type": "code",
   "execution_count": null,
   "metadata": {},
   "outputs": [],
   "source": [
    "Data = Data[Data.DataExistRate_lst >= 80]\n",
    "Data = Data.reset_index()\n",
    "Data"
   ]
  },
  {
   "cell_type": "code",
   "execution_count": null,
   "metadata": {},
   "outputs": [],
   "source": [
    "for j in range(0, len(Data)):\n",
    "    if len(Data.beginDateTime[j]) == 19:\n",
    "        tmBegin = time.strptime(Data.beginDateTime[j], '%Y-%m-%d %H:%M:%S')\n",
    "        tmEnd = time.strptime(Data.endDateTime[j], '%Y-%m-%d %H:%M:%S')\n",
    "    elif len(Data.beginDateTime[j]) == 10:\n",
    "        tmBegin = time.strptime(Data.beginDateTime[j], '%Y-%m-%d')\n",
    "        tmEnd = time.strptime(Data.endDateTime[j], '%Y-%m-%d')\n",
    "    else:\n",
    "        print(Data.beginDateTime[j])\n",
    "        print(\"Date Format Error!!\")\n",
    "\n",
    "    period = date(tmEnd.tm_year , tmEnd.tm_mon, tmEnd.tm_mday) - date(tmBegin.tm_year , tmBegin.tm_mon, tmBegin.tm_mday)\n",
    "    print(\"{} : {}\".format(Data.VariableName[j], period))\n",
    "\n"
   ]
  },
  {
   "cell_type": "code",
   "execution_count": null,
   "metadata": {},
   "outputs": [],
   "source": []
  }
 ],
 "metadata": {
  "kernelspec": {
   "display_name": "Python 3",
   "language": "python",
   "name": "python3"
  },
  "language_info": {
   "codemirror_mode": {
    "name": "ipython",
    "version": 3
   },
   "file_extension": ".py",
   "mimetype": "text/x-python",
   "name": "python",
   "nbconvert_exporter": "python",
   "pygments_lexer": "ipython3",
   "version": "3.7.6"
  }
 },
 "nbformat": 4,
 "nbformat_minor": 4
}
